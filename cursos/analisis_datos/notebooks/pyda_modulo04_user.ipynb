{
 "cells": [
  {
   "cell_type": "markdown",
   "id": "8690ff3c",
   "metadata": {},
   "source": [
    "# 🏁 Módulo 4 – Preguntas de Negocio\n",
    "\n",
    "**Objetivo del módulo**  \n",
    "Aplicar todo lo aprendido (limpieza, EDA, visualización, agrupaciones) para **responder preguntas de negocio reales** con Python y Pandas.\n",
    "\n",
    "**¿Por qué es importante?**  \n",
    "Un analista de datos no solo organiza tablas: transforma datos en **insights accionables** que guían decisiones de producto, marketing o estrategia. Saber plantear y contestar preguntas concretas demuestra el valor práctico de tus habilidades técnicas.\n",
    "\n",
    "---\n",
    "\n",
    "En este notebook resolverás **20 preguntas** usando el dataset limpio `salarios_pais.csv`.  \n",
    "Cada pregunta viene acompañada de una celda *Markdown* (enunciado) y su celda de código con la solución.\n",
    "\n"
   ]
  },
  {
   "cell_type": "markdown",
   "id": "655f87f5",
   "metadata": {},
   "source": [
    "---\n",
    "## 0 · Setup\n",
    "Cargamos librerías y configuramos Seaborn para que los gráficos se vean con un estilo agradable.\n"
   ]
  },
  {
   "cell_type": "code",
   "execution_count": null,
   "id": "973138d6",
   "metadata": {},
   "outputs": [],
   "source": [
    "import pandas as pd\n",
    "import numpy as np\n",
    "import matplotlib.pyplot as plt\n",
    "import seaborn as sns\n",
    "from pathlib import Path\n",
    "from cursos.analisis_datos.utils.paths import DATA_PROCESSED_DIR\n",
    "path_salarios_pais = DATA_PROCESSED_DIR / \"salarios_pais.csv\"\n",
    "path_salarios_pais = str(path_salarios_pais)\n",
    "print(f\"Ruta del archivo salarios_pais: {path_salarios_pais}\")\n",
    "print(f\"existe archivo salarios_pais: {Path(path_salarios_pais).exists()}\")\n",
    "df_salarios_pais = pd.read_csv(filepath_or_buffer=path_salarios_pais, sep=',', encoding='utf-8')\n",
    "df_salarios_pais.head()"
   ]
  },
  {
   "cell_type": "markdown",
   "id": "1e67b910",
   "metadata": {},
   "source": [
    "## 1️⃣ Pregunta  \n",
    "**¿Cuál es la compensación total promedio en el dataset?**\n",
    "\n",
    "### ¿Por qué importa?  \n",
    "La media salarial brinda una referencia rápida para entender el nivel general de pago en la organización o sector. Permite comparar con benchmarks externos y detectar si la empresa está ofreciendo compensaciones competitivas.\n",
    "\n",
    "### Pista  \n",
    "La respuesta está a un solo método de distancia sobre la columna `compensacion_total`."
   ]
  },
  {
   "cell_type": "code",
   "execution_count": null,
   "id": "0b76855e",
   "metadata": {},
   "outputs": [],
   "source": [
    "# Calcula la compensación total promedio\n"
   ]
  },
  {
   "cell_type": "markdown",
   "id": "84414d81",
   "metadata": {},
   "source": [
    "## 2️⃣ Pregunta  \n",
    "**¿Quiénes son los 5 empleados con la compensación total más alta?**\n",
    "\n",
    "### ¿Por qué importa?  \n",
    "Identificar a los empleados mejor pagados ayuda a:  \n",
    "- Detectar roles o perfiles críticos con alto valor de mercado.  \n",
    "- Verificar consistencia salarial interna y posibles brechas injustificadas.  \n",
    "- Analizar si los niveles de compensación se alinean con la estrategia de retención de talento.\n",
    "\n",
    "### Pista   \n",
    "Ordena la columna `compensacion_total` de forma descendente y toma solo las primeras 5 filas."
   ]
  },
  {
   "cell_type": "code",
   "execution_count": null,
   "id": "6ce6b8b1",
   "metadata": {},
   "outputs": [],
   "source": [
    "# Top 5 empleados con mayor compensación total\n"
   ]
  },
  {
   "cell_type": "markdown",
   "id": "52e55dc5",
   "metadata": {},
   "source": [
    "## 3️⃣ Pregunta  \n",
    "**¿Qué país registra la compensación total promedio más alta?**\n",
    "\n",
    "### ¿Por qué importa?  \n",
    "Conocer el país donde los salarios son más altos permite:  \n",
    "- Evaluar mercados laborales competitivos y su impacto en costes de contratación.  \n",
    "- Diseñar políticas de compensación diferenciadas por región.  \n",
    "- Detectar posibles desalineamientos con el costo de vida o la estrategia global de la empresa.\n",
    "\n",
    "### Pista  \n",
    "Agrupa por `pais`, calcula el promedio de `compensacion_total` y ordena de mayor a menor."
   ]
  },
  {
   "cell_type": "code",
   "execution_count": null,
   "id": "78e04d08",
   "metadata": {},
   "outputs": [],
   "source": [
    "# País con la compensación promedio más alta\n"
   ]
  },
  {
   "cell_type": "markdown",
   "id": "16a6c11c",
   "metadata": {},
   "source": [
    "## 4️⃣ Pregunta  \n",
    "**¿Cómo se distribuye la compensación total según el nivel de senioridad?**  \n",
    "*(Visualiza la comparación con un boxplot).*\n",
    "\n",
    "### ¿Por qué importa?  \n",
    "- Revela si existen diferencias salariales significativas entre Juniors y Seniors.  \n",
    "- Permite detectar outliers (pagos extremadamente altos o bajos) por nivel.  \n",
    "- Ayuda a planificar escalas de compensación equitativas y competitivas.\n",
    "\n",
    "### Pista  \n",
    "Usa `sns.boxplot()` con `x='senioridad'` y `y='compensacion_total'`."
   ]
  },
  {
   "cell_type": "code",
   "execution_count": null,
   "id": "21bebf4b",
   "metadata": {},
   "outputs": [],
   "source": [
    "# Boxplot de compensación total por nivel de senioridad\n"
   ]
  },
  {
   "cell_type": "markdown",
   "id": "41b9394f",
   "metadata": {},
   "source": [
    "## 5️⃣ Pregunta  \n",
    "**¿Existe correlación entre los años en la empresa y la compensación total?**\n",
    "\n",
    "### ¿Por qué importa?  \n",
    "- Permite evaluar si la antigüedad impacta directamente en el salario.  \n",
    "- Ayuda a validar políticas de incremento por permanencia.  \n",
    "- Detectar una baja correlación podría indicar que la compensación está más ligada a desempeño o rol que a tiempo en la organización.\n",
    "\n",
    "### Pista  \n",
    "Calcula el coeficiente de correlación de Pearson entre `anos_en_la_empresa` y `compensacion_total`."
   ]
  },
  {
   "cell_type": "code",
   "execution_count": null,
   "id": "a597d608",
   "metadata": {},
   "outputs": [],
   "source": [
    "# Correlación entre antigüedad y compensación total\n"
   ]
  },
  {
   "cell_type": "markdown",
   "id": "0e30c94c",
   "metadata": {},
   "source": [
    "## 6️⃣ Pregunta  \n",
    "**¿Qué cargo presenta la mediana de compensación total más alta?**\n",
    "\n",
    "### ¿Por qué importa?  \n",
    "- La mediana es robusta frente a outliers; refleja el salario “típico” para cada rol.  \n",
    "- Ayuda a identificar posiciones clave con mayor valor de mercado o responsabilidad.  \n",
    "- Informa decisiones de contratación y alineación salarial interna.\n",
    "\n",
    "### Pista  \n",
    "Agrupa por `cargo`, calcula la **mediana** de `compensacion_total`, ordena en orden descendente y observa el primer resultado."
   ]
  },
  {
   "cell_type": "code",
   "execution_count": null,
   "id": "63a9c30a",
   "metadata": {},
   "outputs": [],
   "source": [
    "# Cargo con la mediana de compensación total más alta\n"
   ]
  },
  {
   "cell_type": "markdown",
   "id": "077d71e0",
   "metadata": {},
   "source": [
    "## 7️⃣ Pregunta  \n",
    "**¿Cómo es la distribución de los bonos anuales en dólares?**  \n",
    "*(Construye un histograma e incluye la curva KDE para visualizar la densidad).*\n",
    "\n",
    "### ¿Por qué importa?  \n",
    "- Ayuda a ver si los bonos están concentrados en un rango específico o tienen una cola larga.  \n",
    "- Detecta outliers que podrían distorsionar el promedio.  \n",
    "- Facilita comparar políticas de incentivos entre departamentos o países.\n",
    "\n",
    "### Pista  \n",
    "Usa `sns.histplot()` sobre la columna `bono_anual_dolares`, pon `bins=30` y `kde=True`."
   ]
  },
  {
   "cell_type": "code",
   "execution_count": null,
   "id": "1da75aee",
   "metadata": {},
   "outputs": [],
   "source": [
    "# Histograma y KDE de los bonos anuales en USD\n"
   ]
  },
  {
   "cell_type": "markdown",
   "id": "430e8b98",
   "metadata": {},
   "source": [
    "## 8️⃣ Pregunta  \n",
    "**¿Qué proporción de empleados proviene de cada país?**  \n",
    "*(Visualiza el resultado en un barplot).*\n",
    "\n",
    "### ¿Por qué importa?  \n",
    "- Mide la **representatividad geográfica** de la fuerza laboral.  \n",
    "- Ayuda a detectar concentración en un país y oportunidades de diversificación.  \n",
    "- Sirve como referencia para ajustar políticas de compensación y beneficio regional.\n",
    "\n",
    "### Pista  \n",
    "Calcula `value_counts(normalize=True)` sobre la columna `pais`, multiplícalo por 100 para obtener porcentajes y grafícalo con `plot(kind='bar')`."
   ]
  },
  {
   "cell_type": "code",
   "execution_count": null,
   "id": "e06c10a3",
   "metadata": {},
   "outputs": [],
   "source": [
    "# Proporción de empleados por país (en %)\n"
   ]
  },
  {
   "cell_type": "markdown",
   "id": "d9cd17b5",
   "metadata": {},
   "source": [
    "## 9️⃣ Pregunta  \n",
    "**¿Cuál es el bono anual máximo registrado para cada cargo?**\n",
    "\n",
    "### ¿Por qué importa?  \n",
    "- Revela el techo de incentivos para cada rol.  \n",
    "- Permite verificar si ciertos cargos reciben bonos excepcionalmente altos (posibles outliers o políticas de bonificación agresivas).  \n",
    "- Ayuda a diseñar esquemas de reconocimiento competitivos y equitativos.\n",
    "\n",
    "### Pista  \n",
    "Agrupa por `cargo`, aplica `max()` a `bono_anual_dolares` y ordena el resultado de mayor a menor."
   ]
  },
  {
   "cell_type": "code",
   "execution_count": null,
   "id": "90c2532b",
   "metadata": {},
   "outputs": [],
   "source": [
    "# Bono anual máximo por cargo\n"
   ]
  },
  {
   "cell_type": "markdown",
   "id": "68692180",
   "metadata": {},
   "source": [
    "## 🔟 Pregunta  \n",
    "**¿Cuáles son los 3 países con más empleados que ocupan el cargo de *Data Scientist*?**\n",
    "\n",
    "### ¿Por qué importa?  \n",
    "- Indica dónde se concentra el talento de ciencia de datos en la organización.  \n",
    "- Ayuda a orientar iniciativas de reclutamiento, formación y comunidades locales.  \n",
    "- Puede revelar hubs de innovación o brechas regionales en ese perfil tan demandado.\n",
    "\n",
    "### Pista  \n",
    "Filtra el DataFrame por `cargo == \"Data Scientist\"` y aplica `value_counts()` sobre la columna `pais`, luego utiliza `.head(3)`."
   ]
  },
  {
   "cell_type": "code",
   "execution_count": null,
   "id": "464c21de",
   "metadata": {},
   "outputs": [],
   "source": [
    "# Top 3 países con más Data Scientists\n"
   ]
  },
  {
   "cell_type": "markdown",
   "id": "3ac661e7",
   "metadata": {},
   "source": [
    "## 1️⃣1️⃣ Pregunta  \n",
    "**¿Cómo se relacionan entre sí las variables numéricas del dataset?**  \n",
    "*(Construye una matriz de correlación y preséntala en un heatmap).*\n",
    "\n",
    "### ¿Por qué importa?  \n",
    "- Detecta **relaciones lineales fuertes** (positivas o negativas) entre variables.  \n",
    "- Ayuda a identificar **multicolinealidad** antes de crear modelos predictivos.  \n",
    "- Destaca patrones inesperados que merecen análisis más profundo.\n",
    "\n",
    "### Pista  \n",
    "Selecciona solo las columnas numéricas (`select_dtypes('number')`), calcula `corr()` y grafica con `sns.heatmap(annot=True, cmap='coolwarm')`."
   ]
  },
  {
   "cell_type": "code",
   "execution_count": null,
   "id": "e2efb0ad",
   "metadata": {},
   "outputs": [],
   "source": [
    "# Matriz de correlación numérica con heatmap\n"
   ]
  },
  {
   "cell_type": "markdown",
   "id": "49152140",
   "metadata": {},
   "source": [
    "## 1️⃣2️⃣ Pregunta  \n",
    "**¿Qué porcentaje de empleados del dataset tiene educación universitaria?**\n",
    "\n",
    "### ¿Por qué importa?**  \n",
    "- Mide el nivel de formación académica dentro de la organización.  \n",
    "- Sirve de referencia para programas de capacitación, becas y desarrollo profesional.  \n",
    "- Permite contrastar la brecha (si existe) entre compensación y formación.\n",
    "\n",
    "### Pista\n",
    "Usa `value_counts(normalize=True)` en la columna `educacion_universitaria`, luego multiplica por 100 para obtener el porcentaje."
   ]
  },
  {
   "cell_type": "code",
   "execution_count": null,
   "id": "36a9bfb8",
   "metadata": {},
   "outputs": [],
   "source": [
    "# Porcentaje de empleados con y sin educación universitaria\n"
   ]
  },
  {
   "cell_type": "markdown",
   "id": "8c8539aa",
   "metadata": {},
   "source": [
    "## 1️⃣3️⃣ Pregunta  \n",
    "**¿Cuál es la compensación total promedio por país y nivel de senioridad?**  \n",
    "*(Presenta la respuesta en una tabla pivote).*\n",
    "\n",
    "### ¿Por qué importa?  \n",
    "- Permite comparar si la diferencia salarial entre Juniors y Seniors es coherente en todos los países.  \n",
    "- Identifica países donde los Seniors se pagan por encima o por debajo de la media global.  \n",
    "- Ayuda a diseñar políticas de compensación regionales y ajustar los planes de carrera.\n",
    "\n",
    "### Pista  \n",
    "Crea una tabla pivote con `index='pais'`, `columns='senioridad'` y `values='compensacion_total'`, usando `aggfunc='mean'`."
   ]
  },
  {
   "cell_type": "code",
   "execution_count": null,
   "id": "4f670dd6",
   "metadata": {},
   "outputs": [],
   "source": [
    "# Tabla pivote: compensación promedio por país y senioridad\n"
   ]
  },
  {
   "cell_type": "markdown",
   "id": "fc9f8fe1",
   "metadata": {},
   "source": [
    "## 1️⃣4️⃣ Pregunta  \n",
    "**¿Qué relación existe entre el salario anual y el bono anual?**  \n",
    "*(Visualízalo en un scatterplot).*\n",
    "\n",
    "### ¿Por qué importa?  \n",
    "- Permite ver si los bonos son proporcionales al salario base o se otorgan de forma independiente.  \n",
    "- Ayuda a detectar empleados con bonos atípicamente altos respecto a su sueldo.  \n",
    "- Informa sobre la política de incentivos y su coherencia interna.\n",
    "\n",
    "### Pista  \n",
    "Usa `sns.scatterplot()` con `x='sueldo_anual_dolares'` y `y='bono_anual_dolares'`."
   ]
  },
  {
   "cell_type": "code",
   "execution_count": null,
   "id": "9c590d3d",
   "metadata": {},
   "outputs": [],
   "source": [
    "# Dispersión salario anual vs bono anual\n"
   ]
  },
  {
   "cell_type": "markdown",
   "id": "dff8d191",
   "metadata": {},
   "source": [
    "## 1️⃣5️⃣ Pregunta  \n",
    "**¿Qué porcentaje de empleados lleva más de 5 años en la empresa?**\n",
    "\n",
    "### ¿Por qué importa?  \n",
    "- Mide la **retención de talento** y la estabilidad de la plantilla.  \n",
    "- Un porcentaje alto indica lealtad y experiencia acumulada; uno bajo puede señalar rotación elevada.  \n",
    "- Informa iniciativas de engagement y programas de reconocimiento para empleados veteranos.\n",
    "\n",
    "### Pista  \n",
    "Aplica una condición `df['anos_en_la_empresa'] > 5`, usa `.mean()` para obtener la proporción y multiplícalo por 100."
   ]
  },
  {
   "cell_type": "code",
   "execution_count": null,
   "id": "21ee95fd",
   "metadata": {},
   "outputs": [],
   "source": [
    "# Porcentaje de empleados con más de 5 años en la empresa\n"
   ]
  },
  {
   "cell_type": "markdown",
   "id": "321b9a03",
   "metadata": {},
   "source": [
    "## 1️⃣6️⃣ Pregunta  \n",
    "**¿Qué país presenta el bono anual promedio más alto?**\n",
    "\n",
    "### ¿Por qué importa?  \n",
    "- Indica dónde la empresa invierte más en incentivos variables.  \n",
    "- Ayuda a evaluar la competitividad de los planes de bonificación por región.  \n",
    "- Puede revelar disparidades que requieran revisión de políticas de compensación.\n",
    "\n",
    "### Pista  \n",
    "Agrupa por `pais`, calcula la media de `bono_anual_dolares` y ordena de mayor a menor."
   ]
  },
  {
   "cell_type": "code",
   "execution_count": null,
   "id": "6e15fb7e",
   "metadata": {},
   "outputs": [],
   "source": [
    "# País con el bono anual promedio más alto\n"
   ]
  },
  {
   "cell_type": "markdown",
   "id": "fbd71123",
   "metadata": {},
   "source": [
    "## 1️⃣7️⃣ Pregunta  \n",
    "**¿Cómo varía la distribución de la compensación total entre países?**  \n",
    "*(Muestra un boxplot por país para comparar rangos y outliers).*\n",
    "\n",
    "### ¿Por qué importa?  \n",
    "- Visualiza diferencias salariales entre mercados.  \n",
    "- Ayuda a identificar países con mayor dispersión o presencia de outliers altos/bajos.  \n",
    "- Facilita decisiones sobre ajustes regionales y equidad interna.\n",
    "\n",
    "### Pista  \n",
    "Emplea `sns.boxplot()` con `x='pais'` y `y='compensacion_total'`; rota las etiquetas para que no se solapen."
   ]
  },
  {
   "cell_type": "code",
   "execution_count": null,
   "id": "3d413750",
   "metadata": {},
   "outputs": [],
   "source": [
    "# Boxplot de compensación total por país\n"
   ]
  },
  {
   "cell_type": "markdown",
   "id": "f053eb0e",
   "metadata": {},
   "source": [
    "## 1️⃣8️⃣ Pregunta  \n",
    "**¿Cuál es el promedio de años en la empresa para cada cargo?**\n",
    "\n",
    "### ¿Por qué importa?  \n",
    "- Indica qué roles retienen talento por más tiempo.  \n",
    "- Ayuda a identificar posiciones con alta rotación que podrían requerir planes de carrera o incentivos adicionales.  \n",
    "- Ofrece información para comparar madurez y profundidad de experiencia entre áreas.\n",
    "\n",
    "### Pista  \n",
    "Agrupa por `cargo`, aplica `mean()` sobre `anos_en_la_empresa` y ordena descendente para ver los cargos con mayor antigüedad media."
   ]
  },
  {
   "cell_type": "code",
   "execution_count": null,
   "id": "fd2167a6",
   "metadata": {},
   "outputs": [],
   "source": [
    "# Promedio de años en la empresa por cargo\n"
   ]
  },
  {
   "cell_type": "markdown",
   "id": "88c870cd",
   "metadata": {},
   "source": [
    "## 1️⃣9️⃣ Pregunta  \n",
    "**¿Cuál es la mediana del ingreso per cápita entre los países presentes en el dataset?**\n",
    "\n",
    "### ¿Por qué importa?  \n",
    "- Brinda un punto de referencia de **poder adquisitivo** promedio para las regiones donde opera la empresa.  \n",
    "- Facilita comparar la compensación interna con los niveles de ingreso del país, aportando contexto sobre competitividad salarial local.  \n",
    "- La mediana es robusta frente a valores extremos y refleja mejor el ingreso “típico” que el promedio en economías dispares.\n",
    "\n",
    "### Pista  \n",
    "Basta con aplicar `.median()` a la columna `ingreso_per_capita`."
   ]
  },
  {
   "cell_type": "code",
   "execution_count": null,
   "id": "19c7e577",
   "metadata": {},
   "outputs": [],
   "source": [
    "# Mediana del ingreso per cápita de los países\n"
   ]
  },
  {
   "cell_type": "markdown",
   "id": "0d8b51db",
   "metadata": {},
   "source": [
    "## 2️⃣0️⃣ Pregunta  \n",
    "**¿Cómo se distribuyen los bonos anuales (USD) según el nivel de senioridad?**  \n",
    "*(Representa la comparación con un violinplot).*\n",
    "\n",
    "### ¿Por qué importa?  \n",
    "- Muestra no solo la mediana y el rango, sino la **densidad completa** de los bonos para Juniors y Seniors.  \n",
    "- Facilita detectar si los rangos de bonos se solapan o si los Seniors reciben incentivos notablemente mayores.  \n",
    "- Ayuda a evaluar la equidad y efectividad del esquema de bonificación por experiencia.\n",
    "\n",
    "### Pista  \n",
    "Usa `sns.violinplot()` con `x='senioridad'` y `y='bono_anual_dolares'`."
   ]
  },
  {
   "cell_type": "code",
   "execution_count": null,
   "id": "1b63e239",
   "metadata": {},
   "outputs": [],
   "source": [
    "# Violinplot de bonos anuales por senioridad\n"
   ]
  },
  {
   "cell_type": "markdown",
   "id": "cc62a5d1",
   "metadata": {},
   "source": [
    "## 🎉 ¡Felicidades!\n",
    "\n",
    "Has completado el proyecto integral de **Análisis de Datos con Python**.  \n",
    "Pasaste por todo el ciclo:\n",
    "\n",
    "1. **Preparar el entorno**  \n",
    "2. **Limpiar y transformar datos**  \n",
    "3. **Explorar con visualizaciones**  \n",
    "4. **Responder preguntas de negocio reales**\n",
    "\n",
    "Cada notebook, gráfico y métrica que generaste demuestra tu capacidad para convertir datos en información valiosa. ¡Sigue practicando, comparte tus hallazgos con la comunidad PyData Panamá y recuerda que el siguiente insight puede cambiar una decisión clave!\n",
    "\n",
    "🚀 **Buen trabajo, Data Analyst**. "
   ]
  },
  {
   "cell_type": "markdown",
   "id": "4c71f660",
   "metadata": {},
   "source": []
  }
 ],
 "metadata": {
  "kernelspec": {
   "display_name": "pyda-py311",
   "language": "python",
   "name": "python3"
  },
  "language_info": {
   "codemirror_mode": {
    "name": "ipython",
    "version": 3
   },
   "file_extension": ".py",
   "mimetype": "text/x-python",
   "name": "python",
   "nbconvert_exporter": "python",
   "pygments_lexer": "ipython3",
   "version": "3.11.0"
  }
 },
 "nbformat": 4,
 "nbformat_minor": 5
}
