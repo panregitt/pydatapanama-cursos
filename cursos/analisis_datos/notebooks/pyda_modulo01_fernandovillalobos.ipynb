{
  "cells": [
    {
      "cell_type": "markdown",
      "metadata": {},
      "source": [
        "# Módulo 1: Introducción y Preparación del Entorno\n",
        "\n",
        "En este módulo aprenderás:\n",
        "- El flujo de trabajo en proyectos de análisis de datos\n",
        "- Cómo organizar un proyecto y crear entornos virtuales\n",
        "- Cómo cargar y explorar datos con Pandas\n",
        "\n",
        "La presentación de la primera sesión: [Descargar](https://docs.google.com/presentation/d/1PuFjT6oM-FlzIZpC7pY2WG_GWTV0mowa/edit?slide=id.p1#slide=id.p1)"
      ]
    },
    {
      "cell_type": "markdown",
      "metadata": {},
      "source": [
        "## 1. Flujo de trabajo en ciencia de datos\n",
        "\n",
        "Un flujo típico incluye:\n",
        "1. Definir el problema o pregunta de negocio\n",
        "2. Recolectar los datos\n",
        "3. Limpiar y transformar los datos\n",
        "4. Explorar y visualizar\n",
        "5. Modelar (opcional)\n",
        "6. Comunicar resultados\n",
        "\n",
        "Este curso se enfoca en los pasos 1 a 4."
      ]
    },
    {
      "cell_type": "markdown",
      "metadata": {},
      "source": [
        "## 2. Estructura de un proyecto profesional\n",
        "\n",
        "Una estructura recomendada puede ser:\n",
        "```\n",
        "project-name/\n",
        "├── assest/           # Imagenes, graficos (generalmente no se sube a github)\n",
        "├── data/             # Datos crudos y procesados\n",
        "├── notebooks/        # Notebooks del proyecto\n",
        "├── utils/            # Funciones auxiliares\n",
        "├── docs/             # Documentación\n",
        "├── README.md         # Descripción general\n",
        "├── environment.yml   # Dependencias usando conda\n",
        "└── requirements.txt  # Dependencias usando pip\n",
        "```"
      ]
    },
    {
      "cell_type": "markdown",
      "metadata": {},
      "source": [
        "## 3. Importar librerías y configurar entorno\n",
        "\n",
        "Importamos las librerías necesarias para trabajar con datos."
      ]
    },
    {
      "cell_type": "code",
      "execution_count": 7,
      "id": "c095cac9",
      "metadata": {},
      "outputs": [],
      "source": [
        "import os\n",
        "os.chdir('/Users/fvoac/OneDrive/python/pydatapanama-cursos/cursos/analisis_datos')"
      ]
    },
    {
      "cell_type": "code",
      "execution_count": 1,
      "metadata": {},
      "outputs": [
        {
          "ename": "ModuleNotFoundError",
          "evalue": "No module named 'pandas'",
          "output_type": "error",
          "traceback": [
            "\u001b[31m---------------------------------------------------------------------------\u001b[39m",
            "\u001b[31mModuleNotFoundError\u001b[39m                       Traceback (most recent call last)",
            "\u001b[36mCell\u001b[39m\u001b[36m \u001b[39m\u001b[32mIn[1]\u001b[39m\u001b[32m, line 1\u001b[39m\n\u001b[32m----> \u001b[39m\u001b[32m1\u001b[39m \u001b[38;5;28;01mimport\u001b[39;00m\u001b[38;5;250m \u001b[39m\u001b[34;01mpandas\u001b[39;00m\u001b[38;5;250m \u001b[39m\u001b[38;5;28;01mas\u001b[39;00m\u001b[38;5;250m \u001b[39m\u001b[34;01mpd\u001b[39;00m\n\u001b[32m      2\u001b[39m \u001b[38;5;28;01mimport\u001b[39;00m\u001b[38;5;250m \u001b[39m\u001b[34;01mnumpy\u001b[39;00m\u001b[38;5;250m \u001b[39m\u001b[38;5;28;01mas\u001b[39;00m\u001b[38;5;250m \u001b[39m\u001b[34;01mnp\u001b[39;00m\n\u001b[32m      3\u001b[39m \u001b[38;5;28;01mimport\u001b[39;00m\u001b[38;5;250m \u001b[39m\u001b[34;01mmatplotlib\u001b[39;00m\u001b[34;01m.\u001b[39;00m\u001b[34;01mpyplot\u001b[39;00m\u001b[38;5;250m \u001b[39m\u001b[38;5;28;01mas\u001b[39;00m\u001b[38;5;250m \u001b[39m\u001b[34;01mplt\u001b[39;00m\n",
            "\u001b[31mModuleNotFoundError\u001b[39m: No module named 'pandas'"
          ]
        }
      ],
      "source": [
        "import pandas as pd\n",
        "import numpy as np\n",
        "import matplotlib.pyplot as plt\n",
        "import seaborn as sns\n",
        "from pathlib import Path"
      ]
    },
    {
      "cell_type": "markdown",
      "metadata": {},
      "source": [
        "## 4. Definiendo la ruta de los datos\n",
        "Usaremos un dataset de ejemplo en formato CSV (por ejemplo: `salarios.csv`) ubicado en la carpeta `data/raw/`.\n"
      ]
    },
    {
      "cell_type": "markdown",
      "id": "4ccbfbcc",
      "metadata": {},
      "source": [
        "### Opcion 1) Definir la ruta de los datos"
      ]
    },
    {
      "cell_type": "code",
      "execution_count": 3,
      "id": "8c1db405",
      "metadata": {},
      "outputs": [],
      "source": [
        "path_salarios = '../data/raw/salarios.csv'"
      ]
    },
    {
      "cell_type": "markdown",
      "id": "02cb9263",
      "metadata": {},
      "source": [
        "### Opcion 2) Definir la ruta de los datos usando buenas practicas y la libreria Path"
      ]
    },
    {
      "cell_type": "code",
      "execution_count": 4,
      "id": "c93d679b",
      "metadata": {},
      "outputs": [
        {
          "name": "stdout",
          "output_type": "stream",
          "text": [
            "Ruta del archivo salarios: C:\\Users\\fvoac\\OneDrive\\python\\pydatapanama-cursos\\cursos\\analisis_datos\\data\\raw\\salarios.csv\n",
            "existe archivo salarios: True\n"
          ]
        }
      ],
      "source": [
        "#Importar la carpeta de datos raw desde utils.paths\n",
        "from cursos.analisis_datos.utils.paths import DATA_RAW_DIR\n",
        "\n",
        "#definir un path o ruta con Path\n",
        "path_salarios = DATA_RAW_DIR / \"salarios.csv\"\n",
        "path_salarios = str(path_salarios)\n",
        "\n",
        "print(f\"Ruta del archivo salarios: {path_salarios}\")\n",
        "print(f\"existe archivo salarios: {Path(path_salarios).exists()}\")"
      ]
    },
    {
      "cell_type": "markdown",
      "id": "de6c6a76",
      "metadata": {},
      "source": [
        "## 5. Cargar un dataset\n",
        "Usaremos un dataset de ejemplo en formato CSV (por ejemplo: `salarios.csv`) ubicado en la carpeta `data/raw/`.\n"
      ]
    },
    {
      "cell_type": "markdown",
      "id": "7e95cd5f",
      "metadata": {},
      "source": [
        "### Opcion 1) cargando los datos a un dataframe"
      ]
    },
    {
      "cell_type": "code",
      "execution_count": 6,
      "metadata": {},
      "outputs": [
        {
          "data": {
            "text/html": [
              "<div>\n",
              "<style scoped>\n",
              "    .dataframe tbody tr th:only-of-type {\n",
              "        vertical-align: middle;\n",
              "    }\n",
              "\n",
              "    .dataframe tbody tr th {\n",
              "        vertical-align: top;\n",
              "    }\n",
              "\n",
              "    .dataframe thead th {\n",
              "        text-align: right;\n",
              "    }\n",
              "</style>\n",
              "<table border=\"1\" class=\"dataframe\">\n",
              "  <thead>\n",
              "    <tr style=\"text-align: right;\">\n",
              "      <th></th>\n",
              "      <th>nombre</th>\n",
              "      <th>apellido</th>\n",
              "      <th>edad</th>\n",
              "      <th>pais</th>\n",
              "      <th>educacion_universitaria</th>\n",
              "      <th>nombre_de_la_empresa</th>\n",
              "      <th>cargo</th>\n",
              "      <th>anos_en_la_empresa</th>\n",
              "      <th>sueldo_anual</th>\n",
              "      <th>bono_anual</th>\n",
              "    </tr>\n",
              "  </thead>\n",
              "  <tbody>\n",
              "    <tr>\n",
              "      <th>0</th>\n",
              "      <td>José</td>\n",
              "      <td>López</td>\n",
              "      <td>36</td>\n",
              "      <td>Chile</td>\n",
              "      <td>Sí</td>\n",
              "      <td>Mercado Libre</td>\n",
              "      <td>Python Developer</td>\n",
              "      <td>2</td>\n",
              "      <td>$71841</td>\n",
              "      <td>€4981</td>\n",
              "    </tr>\n",
              "    <tr>\n",
              "      <th>1</th>\n",
              "      <td>Fernanda</td>\n",
              "      <td>Vargas</td>\n",
              "      <td>39</td>\n",
              "      <td>Chile</td>\n",
              "      <td>Sí</td>\n",
              "      <td>Amazon</td>\n",
              "      <td>AI Software Engineer</td>\n",
              "      <td>2</td>\n",
              "      <td>$142115</td>\n",
              "      <td>€1252</td>\n",
              "    </tr>\n",
              "    <tr>\n",
              "      <th>2</th>\n",
              "      <td>Fernanda</td>\n",
              "      <td>Ramírez</td>\n",
              "      <td>30</td>\n",
              "      <td>Colombia</td>\n",
              "      <td>No</td>\n",
              "      <td>Facebook</td>\n",
              "      <td>Machine Learning Engineer</td>\n",
              "      <td>2</td>\n",
              "      <td>$92278</td>\n",
              "      <td>€5262</td>\n",
              "    </tr>\n",
              "    <tr>\n",
              "      <th>3</th>\n",
              "      <td>José</td>\n",
              "      <td>Gómez</td>\n",
              "      <td>35</td>\n",
              "      <td>Chile</td>\n",
              "      <td>Sí</td>\n",
              "      <td>Mercado Libre</td>\n",
              "      <td>Python Developer</td>\n",
              "      <td>12</td>\n",
              "      <td>$97130</td>\n",
              "      <td>€3671</td>\n",
              "    </tr>\n",
              "    <tr>\n",
              "      <th>4</th>\n",
              "      <td>Ana</td>\n",
              "      <td>Pérez</td>\n",
              "      <td>32</td>\n",
              "      <td>Panamá</td>\n",
              "      <td>No</td>\n",
              "      <td>Amazon</td>\n",
              "      <td>Project Manager</td>\n",
              "      <td>2</td>\n",
              "      <td>$61413</td>\n",
              "      <td>€10190</td>\n",
              "    </tr>\n",
              "  </tbody>\n",
              "</table>\n",
              "</div>"
            ],
            "text/plain": [
              "     nombre apellido  edad      pais educacion_universitaria  \\\n",
              "0      José    López    36     Chile                      Sí   \n",
              "1  Fernanda   Vargas    39     Chile                      Sí   \n",
              "2  Fernanda  Ramírez    30  Colombia                      No   \n",
              "3      José    Gómez    35     Chile                      Sí   \n",
              "4       Ana    Pérez    32    Panamá                      No   \n",
              "\n",
              "  nombre_de_la_empresa                      cargo  anos_en_la_empresa  \\\n",
              "0        Mercado Libre           Python Developer                   2   \n",
              "1               Amazon       AI Software Engineer                   2   \n",
              "2             Facebook  Machine Learning Engineer                   2   \n",
              "3        Mercado Libre           Python Developer                  12   \n",
              "4               Amazon            Project Manager                   2   \n",
              "\n",
              "  sueldo_anual bono_anual  \n",
              "0       $71841      €4981  \n",
              "1      $142115      €1252  \n",
              "2       $92278      €5262  \n",
              "3       $97130      €3671  \n",
              "4       $61413     €10190  "
            ]
          },
          "execution_count": 6,
          "metadata": {},
          "output_type": "execute_result"
        }
      ],
      "source": [
        "df = pd.read_csv(path_salarios)\n",
        "df.head()"
      ]
    },
    {
      "cell_type": "markdown",
      "id": "dc862023",
      "metadata": {},
      "source": [
        "### Opcion 2) cargando los datos a un dataframe con buenas prácticas"
      ]
    },
    {
      "cell_type": "code",
      "execution_count": 9,
      "id": "d3f66838",
      "metadata": {},
      "outputs": [],
      "source": [
        "df_salarios = pd.read_csv(filepath_or_buffer=path_salarios, sep=',', encoding='utf-8')\n"
      ]
    },
    {
      "cell_type": "code",
      "execution_count": 10,
      "id": "8505df57",
      "metadata": {},
      "outputs": [
        {
          "data": {
            "text/html": [
              "<div>\n",
              "<style scoped>\n",
              "    .dataframe tbody tr th:only-of-type {\n",
              "        vertical-align: middle;\n",
              "    }\n",
              "\n",
              "    .dataframe tbody tr th {\n",
              "        vertical-align: top;\n",
              "    }\n",
              "\n",
              "    .dataframe thead th {\n",
              "        text-align: right;\n",
              "    }\n",
              "</style>\n",
              "<table border=\"1\" class=\"dataframe\">\n",
              "  <thead>\n",
              "    <tr style=\"text-align: right;\">\n",
              "      <th></th>\n",
              "      <th>nombre</th>\n",
              "      <th>apellido</th>\n",
              "      <th>edad</th>\n",
              "      <th>pais</th>\n",
              "      <th>educacion_universitaria</th>\n",
              "      <th>nombre_de_la_empresa</th>\n",
              "      <th>cargo</th>\n",
              "      <th>anos_en_la_empresa</th>\n",
              "      <th>sueldo_anual</th>\n",
              "      <th>bono_anual</th>\n",
              "    </tr>\n",
              "  </thead>\n",
              "  <tbody>\n",
              "    <tr>\n",
              "      <th>0</th>\n",
              "      <td>José</td>\n",
              "      <td>López</td>\n",
              "      <td>36</td>\n",
              "      <td>Chile</td>\n",
              "      <td>Sí</td>\n",
              "      <td>Mercado Libre</td>\n",
              "      <td>Python Developer</td>\n",
              "      <td>2</td>\n",
              "      <td>$71841</td>\n",
              "      <td>€4981</td>\n",
              "    </tr>\n",
              "    <tr>\n",
              "      <th>1</th>\n",
              "      <td>Fernanda</td>\n",
              "      <td>Vargas</td>\n",
              "      <td>39</td>\n",
              "      <td>Chile</td>\n",
              "      <td>Sí</td>\n",
              "      <td>Amazon</td>\n",
              "      <td>AI Software Engineer</td>\n",
              "      <td>2</td>\n",
              "      <td>$142115</td>\n",
              "      <td>€1252</td>\n",
              "    </tr>\n",
              "    <tr>\n",
              "      <th>2</th>\n",
              "      <td>Fernanda</td>\n",
              "      <td>Ramírez</td>\n",
              "      <td>30</td>\n",
              "      <td>Colombia</td>\n",
              "      <td>No</td>\n",
              "      <td>Facebook</td>\n",
              "      <td>Machine Learning Engineer</td>\n",
              "      <td>2</td>\n",
              "      <td>$92278</td>\n",
              "      <td>€5262</td>\n",
              "    </tr>\n",
              "    <tr>\n",
              "      <th>3</th>\n",
              "      <td>José</td>\n",
              "      <td>Gómez</td>\n",
              "      <td>35</td>\n",
              "      <td>Chile</td>\n",
              "      <td>Sí</td>\n",
              "      <td>Mercado Libre</td>\n",
              "      <td>Python Developer</td>\n",
              "      <td>12</td>\n",
              "      <td>$97130</td>\n",
              "      <td>€3671</td>\n",
              "    </tr>\n",
              "    <tr>\n",
              "      <th>4</th>\n",
              "      <td>Ana</td>\n",
              "      <td>Pérez</td>\n",
              "      <td>32</td>\n",
              "      <td>Panamá</td>\n",
              "      <td>No</td>\n",
              "      <td>Amazon</td>\n",
              "      <td>Project Manager</td>\n",
              "      <td>2</td>\n",
              "      <td>$61413</td>\n",
              "      <td>€10190</td>\n",
              "    </tr>\n",
              "  </tbody>\n",
              "</table>\n",
              "</div>"
            ],
            "text/plain": [
              "     nombre apellido  edad      pais educacion_universitaria  \\\n",
              "0      José    López    36     Chile                      Sí   \n",
              "1  Fernanda   Vargas    39     Chile                      Sí   \n",
              "2  Fernanda  Ramírez    30  Colombia                      No   \n",
              "3      José    Gómez    35     Chile                      Sí   \n",
              "4       Ana    Pérez    32    Panamá                      No   \n",
              "\n",
              "  nombre_de_la_empresa                      cargo  anos_en_la_empresa  \\\n",
              "0        Mercado Libre           Python Developer                   2   \n",
              "1               Amazon       AI Software Engineer                   2   \n",
              "2             Facebook  Machine Learning Engineer                   2   \n",
              "3        Mercado Libre           Python Developer                  12   \n",
              "4               Amazon            Project Manager                   2   \n",
              "\n",
              "  sueldo_anual bono_anual  \n",
              "0       $71841      €4981  \n",
              "1      $142115      €1252  \n",
              "2       $92278      €5262  \n",
              "3       $97130      €3671  \n",
              "4       $61413     €10190  "
            ]
          },
          "execution_count": 10,
          "metadata": {},
          "output_type": "execute_result"
        }
      ],
      "source": [
        "df_salarios.head()"
      ]
    },
    {
      "cell_type": "code",
      "execution_count": 11,
      "id": "3e71aed2",
      "metadata": {},
      "outputs": [
        {
          "data": {
            "text/html": [
              "<div>\n",
              "<style scoped>\n",
              "    .dataframe tbody tr th:only-of-type {\n",
              "        vertical-align: middle;\n",
              "    }\n",
              "\n",
              "    .dataframe tbody tr th {\n",
              "        vertical-align: top;\n",
              "    }\n",
              "\n",
              "    .dataframe thead th {\n",
              "        text-align: right;\n",
              "    }\n",
              "</style>\n",
              "<table border=\"1\" class=\"dataframe\">\n",
              "  <thead>\n",
              "    <tr style=\"text-align: right;\">\n",
              "      <th></th>\n",
              "      <th>nombre</th>\n",
              "      <th>apellido</th>\n",
              "      <th>edad</th>\n",
              "      <th>pais</th>\n",
              "      <th>educacion_universitaria</th>\n",
              "      <th>nombre_de_la_empresa</th>\n",
              "      <th>cargo</th>\n",
              "      <th>anos_en_la_empresa</th>\n",
              "      <th>sueldo_anual</th>\n",
              "      <th>bono_anual</th>\n",
              "    </tr>\n",
              "  </thead>\n",
              "  <tbody>\n",
              "    <tr>\n",
              "      <th>320</th>\n",
              "      <td>José</td>\n",
              "      <td>Martínez</td>\n",
              "      <td>35</td>\n",
              "      <td>Chile</td>\n",
              "      <td>Sí</td>\n",
              "      <td>Globant</td>\n",
              "      <td>Data Engineer</td>\n",
              "      <td>3</td>\n",
              "      <td>$97114</td>\n",
              "      <td>€1684</td>\n",
              "    </tr>\n",
              "    <tr>\n",
              "      <th>321</th>\n",
              "      <td>Carlos</td>\n",
              "      <td>Flores</td>\n",
              "      <td>55</td>\n",
              "      <td>Uruguay</td>\n",
              "      <td>Sí</td>\n",
              "      <td>Globant</td>\n",
              "      <td>Machine Learning Engineer</td>\n",
              "      <td>1</td>\n",
              "      <td>$104541</td>\n",
              "      <td>€3128</td>\n",
              "    </tr>\n",
              "    <tr>\n",
              "      <th>322</th>\n",
              "      <td>Lucía</td>\n",
              "      <td>Torres</td>\n",
              "      <td>36</td>\n",
              "      <td>Costa Rica</td>\n",
              "      <td>No</td>\n",
              "      <td>Oracle</td>\n",
              "      <td>Software Engineer</td>\n",
              "      <td>0</td>\n",
              "      <td>$86042</td>\n",
              "      <td>€8746</td>\n",
              "    </tr>\n",
              "    <tr>\n",
              "      <th>323</th>\n",
              "      <td>Lucía</td>\n",
              "      <td>González</td>\n",
              "      <td>56</td>\n",
              "      <td>Uruguay</td>\n",
              "      <td>No</td>\n",
              "      <td>Nubank</td>\n",
              "      <td>Data Scientist</td>\n",
              "      <td>7</td>\n",
              "      <td>$96078</td>\n",
              "      <td>€11419</td>\n",
              "    </tr>\n",
              "    <tr>\n",
              "      <th>324</th>\n",
              "      <td>Andrea</td>\n",
              "      <td>Pérez</td>\n",
              "      <td>26</td>\n",
              "      <td>Perú</td>\n",
              "      <td>Sí</td>\n",
              "      <td>Meta</td>\n",
              "      <td>Data Engineer</td>\n",
              "      <td>11</td>\n",
              "      <td>$93115</td>\n",
              "      <td>€3426</td>\n",
              "    </tr>\n",
              "  </tbody>\n",
              "</table>\n",
              "</div>"
            ],
            "text/plain": [
              "     nombre  apellido  edad        pais educacion_universitaria  \\\n",
              "320    José  Martínez    35       Chile                      Sí   \n",
              "321  Carlos    Flores    55     Uruguay                      Sí   \n",
              "322   Lucía    Torres    36  Costa Rica                      No   \n",
              "323   Lucía  González    56     Uruguay                      No   \n",
              "324  Andrea     Pérez    26        Perú                      Sí   \n",
              "\n",
              "    nombre_de_la_empresa                      cargo  anos_en_la_empresa  \\\n",
              "320              Globant              Data Engineer                   3   \n",
              "321              Globant  Machine Learning Engineer                   1   \n",
              "322               Oracle          Software Engineer                   0   \n",
              "323               Nubank             Data Scientist                   7   \n",
              "324                 Meta              Data Engineer                  11   \n",
              "\n",
              "    sueldo_anual bono_anual  \n",
              "320       $97114      €1684  \n",
              "321      $104541      €3128  \n",
              "322       $86042      €8746  \n",
              "323       $96078     €11419  \n",
              "324       $93115      €3426  "
            ]
          },
          "execution_count": 11,
          "metadata": {},
          "output_type": "execute_result"
        }
      ],
      "source": [
        "df_salarios.tail()"
      ]
    },
    {
      "cell_type": "code",
      "execution_count": 12,
      "id": "b50a0d4e",
      "metadata": {},
      "outputs": [
        {
          "data": {
            "text/html": [
              "<div>\n",
              "<style scoped>\n",
              "    .dataframe tbody tr th:only-of-type {\n",
              "        vertical-align: middle;\n",
              "    }\n",
              "\n",
              "    .dataframe tbody tr th {\n",
              "        vertical-align: top;\n",
              "    }\n",
              "\n",
              "    .dataframe thead th {\n",
              "        text-align: right;\n",
              "    }\n",
              "</style>\n",
              "<table border=\"1\" class=\"dataframe\">\n",
              "  <thead>\n",
              "    <tr style=\"text-align: right;\">\n",
              "      <th></th>\n",
              "      <th>nombre</th>\n",
              "      <th>apellido</th>\n",
              "      <th>edad</th>\n",
              "      <th>pais</th>\n",
              "      <th>educacion_universitaria</th>\n",
              "      <th>nombre_de_la_empresa</th>\n",
              "      <th>cargo</th>\n",
              "      <th>anos_en_la_empresa</th>\n",
              "      <th>sueldo_anual</th>\n",
              "      <th>bono_anual</th>\n",
              "    </tr>\n",
              "  </thead>\n",
              "  <tbody>\n",
              "    <tr>\n",
              "      <th>120</th>\n",
              "      <td>Carlos</td>\n",
              "      <td>Torres</td>\n",
              "      <td>30</td>\n",
              "      <td>Colombia</td>\n",
              "      <td>No</td>\n",
              "      <td>Mercado Libre</td>\n",
              "      <td>Machine Learning Engineer</td>\n",
              "      <td>5</td>\n",
              "      <td>$113447</td>\n",
              "      <td>€2074</td>\n",
              "    </tr>\n",
              "  </tbody>\n",
              "</table>\n",
              "</div>"
            ],
            "text/plain": [
              "     nombre apellido  edad      pais educacion_universitaria  \\\n",
              "120  Carlos   Torres    30  Colombia                      No   \n",
              "\n",
              "    nombre_de_la_empresa                      cargo  anos_en_la_empresa  \\\n",
              "120        Mercado Libre  Machine Learning Engineer                   5   \n",
              "\n",
              "    sueldo_anual bono_anual  \n",
              "120      $113447      €2074  "
            ]
          },
          "execution_count": 12,
          "metadata": {},
          "output_type": "execute_result"
        }
      ],
      "source": [
        "df_salarios.sample()"
      ]
    },
    {
      "cell_type": "markdown",
      "metadata": {},
      "source": [
        "## 6. Exploración inicial del dataset\n",
        "\n",
        "Veamos el tipo de datos, columnas, y valores nulos."
      ]
    },
    {
      "cell_type": "code",
      "execution_count": 14,
      "metadata": {},
      "outputs": [
        {
          "name": "stdout",
          "output_type": "stream",
          "text": [
            "<class 'pandas.core.frame.DataFrame'>\n",
            "RangeIndex: 325 entries, 0 to 324\n",
            "Data columns (total 10 columns):\n",
            " #   Column                   Non-Null Count  Dtype \n",
            "---  ------                   --------------  ----- \n",
            " 0   nombre                   325 non-null    object\n",
            " 1   apellido                 325 non-null    object\n",
            " 2   edad                     325 non-null    int64 \n",
            " 3   pais                     324 non-null    object\n",
            " 4   educacion_universitaria  325 non-null    object\n",
            " 5   nombre_de_la_empresa     317 non-null    object\n",
            " 6   cargo                    325 non-null    object\n",
            " 7   anos_en_la_empresa       325 non-null    int64 \n",
            " 8   sueldo_anual             325 non-null    object\n",
            " 9   bono_anual               325 non-null    object\n",
            "dtypes: int64(2), object(8)\n",
            "memory usage: 25.5+ KB\n"
          ]
        }
      ],
      "source": [
        "df.info()"
      ]
    },
    {
      "cell_type": "code",
      "execution_count": 15,
      "metadata": {},
      "outputs": [
        {
          "data": {
            "text/html": [
              "<div>\n",
              "<style scoped>\n",
              "    .dataframe tbody tr th:only-of-type {\n",
              "        vertical-align: middle;\n",
              "    }\n",
              "\n",
              "    .dataframe tbody tr th {\n",
              "        vertical-align: top;\n",
              "    }\n",
              "\n",
              "    .dataframe thead th {\n",
              "        text-align: right;\n",
              "    }\n",
              "</style>\n",
              "<table border=\"1\" class=\"dataframe\">\n",
              "  <thead>\n",
              "    <tr style=\"text-align: right;\">\n",
              "      <th></th>\n",
              "      <th>edad</th>\n",
              "      <th>anos_en_la_empresa</th>\n",
              "    </tr>\n",
              "  </thead>\n",
              "  <tbody>\n",
              "    <tr>\n",
              "      <th>count</th>\n",
              "      <td>325.000000</td>\n",
              "      <td>325.000000</td>\n",
              "    </tr>\n",
              "    <tr>\n",
              "      <th>mean</th>\n",
              "      <td>40.889231</td>\n",
              "      <td>6.353846</td>\n",
              "    </tr>\n",
              "    <tr>\n",
              "      <th>std</th>\n",
              "      <td>11.582769</td>\n",
              "      <td>3.997803</td>\n",
              "    </tr>\n",
              "    <tr>\n",
              "      <th>min</th>\n",
              "      <td>22.000000</td>\n",
              "      <td>0.000000</td>\n",
              "    </tr>\n",
              "    <tr>\n",
              "      <th>25%</th>\n",
              "      <td>30.000000</td>\n",
              "      <td>3.000000</td>\n",
              "    </tr>\n",
              "    <tr>\n",
              "      <th>50%</th>\n",
              "      <td>41.000000</td>\n",
              "      <td>6.000000</td>\n",
              "    </tr>\n",
              "    <tr>\n",
              "      <th>75%</th>\n",
              "      <td>51.000000</td>\n",
              "      <td>10.000000</td>\n",
              "    </tr>\n",
              "    <tr>\n",
              "      <th>max</th>\n",
              "      <td>60.000000</td>\n",
              "      <td>13.000000</td>\n",
              "    </tr>\n",
              "  </tbody>\n",
              "</table>\n",
              "</div>"
            ],
            "text/plain": [
              "             edad  anos_en_la_empresa\n",
              "count  325.000000          325.000000\n",
              "mean    40.889231            6.353846\n",
              "std     11.582769            3.997803\n",
              "min     22.000000            0.000000\n",
              "25%     30.000000            3.000000\n",
              "50%     41.000000            6.000000\n",
              "75%     51.000000           10.000000\n",
              "max     60.000000           13.000000"
            ]
          },
          "execution_count": 15,
          "metadata": {},
          "output_type": "execute_result"
        }
      ],
      "source": [
        "df.describe()"
      ]
    },
    {
      "cell_type": "code",
      "execution_count": 16,
      "id": "f275386d",
      "metadata": {},
      "outputs": [
        {
          "data": {
            "text/plain": [
              "nombre                     0\n",
              "apellido                   0\n",
              "edad                       0\n",
              "pais                       1\n",
              "educacion_universitaria    0\n",
              "nombre_de_la_empresa       8\n",
              "cargo                      0\n",
              "anos_en_la_empresa         0\n",
              "sueldo_anual               0\n",
              "bono_anual                 0\n",
              "dtype: int64"
            ]
          },
          "execution_count": 16,
          "metadata": {},
          "output_type": "execute_result"
        }
      ],
      "source": [
        "df.isnull().sum()"
      ]
    }
  ],
  "metadata": {
    "kernelspec": {
      "display_name": "Python 3",
      "language": "python",
      "name": "python3"
    },
    "language_info": {
      "codemirror_mode": {
        "name": "ipython",
        "version": 3
      },
      "file_extension": ".py",
      "mimetype": "text/x-python",
      "name": "python",
      "nbconvert_exporter": "python",
      "pygments_lexer": "ipython3",
      "version": "3.13.5"
    }
  },
  "nbformat": 4,
  "nbformat_minor": 5
}
